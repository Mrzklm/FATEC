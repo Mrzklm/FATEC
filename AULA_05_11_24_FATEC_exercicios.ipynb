{
  "nbformat": 4,
  "nbformat_minor": 0,
  "metadata": {
    "colab": {
      "provenance": [],
      "include_colab_link": true
    },
    "kernelspec": {
      "name": "python3",
      "display_name": "Python 3"
    },
    "language_info": {
      "name": "python"
    }
  },
  "cells": [
    {
      "cell_type": "markdown",
      "metadata": {
        "id": "view-in-github",
        "colab_type": "text"
      },
      "source": [
        "<a href=\"https://colab.research.google.com/github/Mrzklm/FATEC/blob/main/AULA_05_11_24_FATEC_exercicios.ipynb\" target=\"_parent\"><img src=\"https://colab.research.google.com/assets/colab-badge.svg\" alt=\"Open In Colab\"/></a>"
      ]
    },
    {
      "cell_type": "markdown",
      "source": [
        "# **REVISÃO AULA PASSADA - LAÇOS FOR E WHILE**"
      ],
      "metadata": {
        "id": "4GFL_EBpwhRI"
      }
    },
    {
      "cell_type": "code",
      "execution_count": null,
      "metadata": {
        "id": "uJgTBR6xwTrL"
      },
      "outputs": [],
      "source": [
        "# Exemplo de laço for\n",
        "for i in range(5):\n",
        "    print(\"Executando for, iteração:\", i)"
      ]
    },
    {
      "cell_type": "code",
      "source": [
        "# Exemplo de laço while\n",
        "contador = 0\n",
        "while contador < 5:\n",
        "    print(\"Executando while, contador:\", contador)\n",
        "    contador += 1"
      ],
      "metadata": {
        "id": "xXcg44sGwr4J"
      },
      "execution_count": null,
      "outputs": []
    },
    {
      "cell_type": "markdown",
      "source": [
        "\n",
        "\n",
        "---\n",
        "\n"
      ],
      "metadata": {
        "id": "GU2_RjoP3EFj"
      }
    },
    {
      "cell_type": "markdown",
      "source": [
        "# **LISTAS, TUPLAS E DICIONÁRIOS**"
      ],
      "metadata": {
        "id": "4NfkUh-w1uUD"
      }
    },
    {
      "cell_type": "markdown",
      "source": [
        "Esses são conceitos essenciais para trabalhar com coleções de dados no Python e possuem características e usos específicos."
      ],
      "metadata": {
        "id": "kMn7QxoG15BU"
      }
    },
    {
      "cell_type": "markdown",
      "source": [
        "## 1. LISTAS\n",
        "\n",
        "As listas são coleções mutáveis, o que significa que você pode modificar, adicionar ou remover elementos após a criação. Listas são definidas usando colchetes `[]`.\n",
        "\n",
        "**Exemplo 1: Criando uma lista e acessando elementos**"
      ],
      "metadata": {
        "id": "n_U8KARB16A0"
      }
    },
    {
      "cell_type": "code",
      "source": [
        "# Criando uma lista de frutas\n",
        "frutas = [\"maçã\", \"banana\", \"laranja\"]\n",
        "\n",
        "# Acessando elementos\n",
        "print(frutas[0])  # Output: maçã\n",
        "print(frutas[1])  # Output: banana\n",
        "print(frutas[2])  # Output: laranja\n"
      ],
      "metadata": {
        "id": "m3dMP1y12EsW"
      },
      "execution_count": null,
      "outputs": []
    },
    {
      "cell_type": "markdown",
      "source": [
        "**Exemplo 2: Adicionando e removendo elementos**"
      ],
      "metadata": {
        "id": "KyI3dC_F2L6n"
      }
    },
    {
      "cell_type": "code",
      "source": [
        "# Adicionando uma fruta à lista\n",
        "frutas.append(\"uva\")\n",
        "print(frutas)  # Output: ['maçã', 'banana', 'laranja', 'uva']\n",
        "\n",
        "# Removendo uma fruta da lista\n",
        "frutas.remove(\"banana\")\n",
        "print(frutas)  # Output: ['maçã', 'laranja', 'uva']\n"
      ],
      "metadata": {
        "id": "upfu6ARp2PU4"
      },
      "execution_count": null,
      "outputs": []
    },
    {
      "cell_type": "markdown",
      "source": [
        "**Exemplo 3: Iterando sobre uma lista**"
      ],
      "metadata": {
        "id": "yGXZWQ-22ROv"
      }
    },
    {
      "cell_type": "code",
      "source": [
        "# Exibindo cada fruta da lista\n",
        "for fruta in frutas:\n",
        "    print(fruta)\n",
        "# Output:\n",
        "# maçã\n",
        "# laranja\n",
        "# uva"
      ],
      "metadata": {
        "id": "Mb28OlpT2TNm"
      },
      "execution_count": null,
      "outputs": []
    },
    {
      "cell_type": "markdown",
      "source": [
        "## 2. TUPLAS\n",
        "\n",
        "As tuplas são semelhantes às listas, mas são imutáveis, ou seja, depois de criadas, seus elementos não podem ser alterados. Tuplas são definidas usando parênteses `()`.\n",
        "\n",
        "**Exemplo 1: Criando uma tupla e acessando elementos**"
      ],
      "metadata": {
        "id": "GwpCxNzC2Wne"
      }
    },
    {
      "cell_type": "code",
      "source": [
        "# Criando uma tupla de números\n",
        "numeros = (1, 2, 3)\n",
        "\n",
        "# Acessando elementos\n",
        "print(numeros[0])  # Output: 1\n",
        "print(numeros[1])  # Output: 2\n",
        "print(numeros[2])  # Output: 3"
      ],
      "metadata": {
        "id": "xVcCDLWC2crp"
      },
      "execution_count": null,
      "outputs": []
    },
    {
      "cell_type": "markdown",
      "source": [
        "**Exemplo 2: Usando tuplas para armazenar dados imutáveis**"
      ],
      "metadata": {
        "id": "ffoIcA-Q2e94"
      }
    },
    {
      "cell_type": "code",
      "source": [
        "# Coordenadas geográficas de uma cidade\n",
        "coordenadas = (40.7128, -74.0060)  # Latitude e Longitude de Nova York\n",
        "\n",
        "# Exibindo as coordenadas\n",
        "print(f\"Latitude: {coordenadas[0]}, Longitude: {coordenadas[1]}\")\n",
        "# Output: Latitude: 40.7128, Longitude: -74.006"
      ],
      "metadata": {
        "id": "Ve0j8eW22gEH"
      },
      "execution_count": null,
      "outputs": []
    },
    {
      "cell_type": "markdown",
      "source": [
        "**Exemplo 3: Desempacotando valores de uma tupla**"
      ],
      "metadata": {
        "id": "V3HO2ZO12jSx"
      }
    },
    {
      "cell_type": "code",
      "source": [
        "# Desempacotando uma tupla em variáveis\n",
        "(a, b) = (5, 10)\n",
        "print(a)  # Output: 5\n",
        "print(b)  # Output: 10\n"
      ],
      "metadata": {
        "id": "j4AJMpvq2lUp"
      },
      "execution_count": null,
      "outputs": []
    },
    {
      "cell_type": "markdown",
      "source": [
        "## 3. Dicionários\n",
        "\n",
        "Os dicionários são coleções mutáveis de pares de chave-valor. Você usa chaves `{}` para defini-los, com cada item sendo uma combinação de uma chave e um valor, como \"nome\": \"Maria\".\n",
        "\n",
        "**Exemplo 1: Criando e acessando elementos de um dicionário**"
      ],
      "metadata": {
        "id": "ol7Itt0v2oAo"
      }
    },
    {
      "cell_type": "code",
      "source": [
        "# Criando um dicionário de informações de uma pessoa\n",
        "pessoa = {\"nome\": \"Maria\", \"idade\": 25, \"cidade\": \"São Paulo\"}\n",
        "\n",
        "# Acessando valores\n",
        "print(pessoa[\"nome\"])  # Output: Maria\n",
        "print(pessoa[\"idade\"])  # Output: 25\n"
      ],
      "metadata": {
        "id": "btvtLxER2tEY"
      },
      "execution_count": null,
      "outputs": []
    },
    {
      "cell_type": "markdown",
      "source": [
        "**Exemplo 2: Adicionando e atualizando valores**"
      ],
      "metadata": {
        "id": "haZjVgq_2vfY"
      }
    },
    {
      "cell_type": "code",
      "source": [
        "# Adicionando um novo par chave-valor\n",
        "pessoa[\"profissão\"] = \"Engenheira\"\n",
        "print(pessoa)  # Output: {'nome': 'Maria', 'idade': 25, 'cidade': 'São Paulo', 'profissão': 'Engenheira'}\n",
        "\n",
        "# Atualizando um valor existente\n",
        "pessoa[\"idade\"] = 26\n",
        "print(pessoa)  # Output: {'nome': 'Maria', 'idade': 26, 'cidade': 'São Paulo', 'profissão': 'Engenheira'}\n"
      ],
      "metadata": {
        "id": "QknoDyv72xLg"
      },
      "execution_count": null,
      "outputs": []
    },
    {
      "cell_type": "markdown",
      "source": [
        "**Exemplo 3: Iterando sobre chaves e valores**"
      ],
      "metadata": {
        "id": "GEauqz_A2y6h"
      }
    },
    {
      "cell_type": "code",
      "source": [
        "# Iterando sobre as chaves e valores do dicionário\n",
        "for chave, valor in pessoa.items():\n",
        "    print(f\"{chave}: {valor}\")\n",
        "# Output:\n",
        "# nome: Maria\n",
        "# idade: 26\n",
        "# cidade: São Paulo\n",
        "# profissão: Engenheira"
      ],
      "metadata": {
        "id": "5xsDh1kG20bR"
      },
      "execution_count": null,
      "outputs": []
    },
    {
      "cell_type": "markdown",
      "source": [
        "- **Listas** são mutáveis, definidas por `[]`, e permitem operações como adição, remoção e modificação.\n",
        "- **Tuplas** são imutáveis, definidas por `()`, e são usadas para dados que não devem ser alterados.\n",
        "- **Dicionários** são coleções de pares chave-valor, definidas por `{}`, e permitem acessar, adicionar, atualizar e remover dados.\n",
        "\n",
        "Essas estruturas são fundamentais para manipulação de dados em Python, cada uma com suas próprias características e vantagens."
      ],
      "metadata": {
        "id": "pBJ_fD6E24pa"
      }
    },
    {
      "cell_type": "markdown",
      "source": [
        "\n",
        "\n",
        "---\n",
        "\n"
      ],
      "metadata": {
        "id": "x1dzgmW53B5a"
      }
    },
    {
      "cell_type": "markdown",
      "source": [
        "# **Funções Criadas pelo Usuário**"
      ],
      "metadata": {
        "id": "wasUGLyXwmS4"
      }
    },
    {
      "cell_type": "markdown",
      "source": [
        "- sem retorno e sem parâmetros\n",
        "- sem retorno e com parâmetros\n",
        "- com retorno e sem parâmetros\n",
        "- com retorno e com parâmetros"
      ],
      "metadata": {
        "id": "BMkgyGhO3sim"
      }
    },
    {
      "cell_type": "markdown",
      "source": [
        "## 1. Função sem retorno e sem parâmetros\n",
        "Essas funções realizam uma tarefa, mas não recebem dados nem retornam valores. Elas apenas executam um bloco de código.\n",
        "\n",
        "**Exemplo:**"
      ],
      "metadata": {
        "id": "tY5mPDIt3wnY"
      }
    },
    {
      "cell_type": "code",
      "source": [
        "def saudacao():\n",
        "    print(\"Olá! Bem-vindo ao curso.\")\n",
        "\n",
        "# Chamando a função\n",
        "saudacao()\n",
        "# Output: Olá! Bem-vindo ao curso."
      ],
      "metadata": {
        "id": "VEQDGIpQ30p-"
      },
      "execution_count": null,
      "outputs": []
    },
    {
      "cell_type": "markdown",
      "source": [
        "## 2. Função sem retorno e com parâmetros\n",
        "Essas funções recebem dados como entrada, mas não retornam nenhum valor. São úteis para operações que apenas executam uma ação com os dados fornecidos.\n",
        "\n",
        "**Exemplo:**"
      ],
      "metadata": {
        "id": "yMq9dFYk3343"
      }
    },
    {
      "cell_type": "code",
      "source": [
        "def exibir_mensagem(nome):\n",
        "    print(f\"Olá, {nome}! Como vai?\")\n",
        "\n",
        "# Chamando a função com um argumento\n",
        "exibir_mensagem(\"Ana\")\n",
        "# Output: Olá, Ana! Como vai?\n"
      ],
      "metadata": {
        "id": "BD_syBJu37mY"
      },
      "execution_count": null,
      "outputs": []
    },
    {
      "cell_type": "markdown",
      "source": [
        "## 3. Função com retorno e sem parâmetros\n",
        "Essas funções não recebem dados de entrada, mas retornam um valor. Isso é útil para funções que realizam algum cálculo ou geram um valor que será utilizado posteriormente.\n",
        "\n",
        "**Exemplo:**"
      ],
      "metadata": {
        "id": "7Q_5jwBm3-OH"
      }
    },
    {
      "cell_type": "code",
      "source": [
        "def obter_mensagem():\n",
        "    return \"Bem-vindo ao Python!\"\n",
        "\n",
        "# Armazenando o retorno da função em uma variável\n",
        "mensagem = obter_mensagem()\n",
        "print(mensagem)\n",
        "# Output: Bem-vindo ao Python!\n"
      ],
      "metadata": {
        "id": "cFA45bPQ4Cbg"
      },
      "execution_count": null,
      "outputs": []
    },
    {
      "cell_type": "markdown",
      "source": [
        "## 4. Função com retorno e com parâmetros\n",
        "Essas funções recebem dados de entrada e retornam um valor. São úteis para funções que processam dados e retornam um resultado.\n",
        "\n",
        "**Exemplo:**"
      ],
      "metadata": {
        "id": "fsEwTG994E0g"
      }
    },
    {
      "cell_type": "code",
      "source": [
        "def somar(a, b):\n",
        "    return a + b\n",
        "\n",
        "# Chamando a função e usando o valor retornado\n",
        "resultado = somar(5, 3)\n",
        "print(resultado)\n",
        "# Output: 8"
      ],
      "metadata": {
        "id": "2CaBUKWE4HsQ"
      },
      "execution_count": null,
      "outputs": []
    },
    {
      "cell_type": "markdown",
      "source": [
        "## **Resum**o\n",
        "- **Sem retorno e sem parâmetro**s: Executa uma tarefa simples, sem entrada ou saída.\n",
        "- **Sem retorno e com parâmetros**: Realiza uma tarefa com dados fornecidos, sem retornar nada.\n",
        "- **Com retorno e sem parâmetros**: Retorna um valor calculado, sem precisar de entrada.\n",
        "- **Com retorno e com parâmetros**: Recebe dados, processa e retorna um valor.\n",
        "\n",
        "Essas combinações ajudam a criar funções flexíveis e reutilizáveis para diversas situações em Python."
      ],
      "metadata": {
        "id": "WTFFmT2F4Mq3"
      }
    },
    {
      "cell_type": "markdown",
      "source": [
        "As funções são blocos de código que realizam tarefas específicas e podem ser reutilizados. Criamos uma função usando a palavra-chave def, seguida pelo nome da função e seus parâmetros."
      ],
      "metadata": {
        "id": "7xSjAwajw3SQ"
      }
    },
    {
      "cell_type": "code",
      "source": [
        "def saudacao(nome):\n",
        "    return f\"Olá, {nome}!\"\n",
        "\n",
        "print(saudacao(\"Maria\"))"
      ],
      "metadata": {
        "id": "pKyog3cWw6ZB"
      },
      "execution_count": null,
      "outputs": []
    },
    {
      "cell_type": "markdown",
      "source": [
        "\n",
        "\n",
        "---\n",
        "\n"
      ],
      "metadata": {
        "id": "ehdTMSOA4XzZ"
      }
    },
    {
      "cell_type": "markdown",
      "source": [
        "# **Exercícios Propostos (Com Resolução)**"
      ],
      "metadata": {
        "id": "VSgGBzhOw-WA"
      }
    },
    {
      "cell_type": "markdown",
      "source": [
        "1. Imprimir Números de 1 a 10"
      ],
      "metadata": {
        "id": "JSdtOKL5xBeo"
      }
    },
    {
      "cell_type": "code",
      "source": [
        "for i in range(1, 11):\n",
        "    print(i)"
      ],
      "metadata": {
        "id": "fbIkMKrrxAww"
      },
      "execution_count": null,
      "outputs": []
    },
    {
      "cell_type": "markdown",
      "source": [
        "2. Soma dos Números Pares até 20"
      ],
      "metadata": {
        "id": "7ZJD9fTGxGrh"
      }
    },
    {
      "cell_type": "code",
      "source": [
        "soma = 0\n",
        "for i in range(1, 21):\n",
        "    if i % 2 == 0:\n",
        "        soma += i\n",
        "print(\"Soma dos pares até 20:\", soma)\n"
      ],
      "metadata": {
        "id": "YxsIe5hexLKx"
      },
      "execution_count": null,
      "outputs": []
    },
    {
      "cell_type": "markdown",
      "source": [
        "3. Contagem Regressiva"
      ],
      "metadata": {
        "id": "x1X8JhpCxOMq"
      }
    },
    {
      "cell_type": "code",
      "source": [
        "for i in range(10, 0, -1):\n",
        "    print(i)\n",
        "print(\"Lançar!\")"
      ],
      "metadata": {
        "id": "_mnmEBg5xNaj"
      },
      "execution_count": null,
      "outputs": []
    },
    {
      "cell_type": "markdown",
      "source": [
        "4. Cálculo de Fatorial"
      ],
      "metadata": {
        "id": "ucM2Xbl7xSEq"
      }
    },
    {
      "cell_type": "code",
      "source": [
        "def fatorial(n):\n",
        "    resultado = 1\n",
        "    for i in range(1, n + 1):\n",
        "        resultado *= i\n",
        "    return resultado\n",
        "\n",
        "print(fatorial(5))  # Exemplo de uso"
      ],
      "metadata": {
        "id": "cQP-Gz20xVAr"
      },
      "execution_count": null,
      "outputs": []
    },
    {
      "cell_type": "markdown",
      "source": [
        "5. Verificar Número Primo"
      ],
      "metadata": {
        "id": "cT05XsNdxZ4z"
      }
    },
    {
      "cell_type": "code",
      "source": [
        "def eh_primo(n):\n",
        "    if n < 2:\n",
        "        return False\n",
        "    for i in range(2, int(n ** 0.5) + 1):\n",
        "        if n % i == 0:\n",
        "            return False\n",
        "    return True\n",
        "\n",
        "print(eh_primo(7))  # Exemplo de uso"
      ],
      "metadata": {
        "id": "ant5m9k9xbka"
      },
      "execution_count": null,
      "outputs": []
    },
    {
      "cell_type": "markdown",
      "source": [
        "6. Soma dos Elementos de uma Lista"
      ],
      "metadata": {
        "id": "-DKrm1eAxhBt"
      }
    },
    {
      "cell_type": "code",
      "source": [
        "def soma_lista(lista):\n",
        "    soma = 0\n",
        "    for elemento in lista:\n",
        "        soma += elemento\n",
        "    return soma\n",
        "\n",
        "print(soma_lista([1, 2, 3, 4, 5]))  # Exemplo de uso"
      ],
      "metadata": {
        "id": "Ck9eJYMtxiy2"
      },
      "execution_count": null,
      "outputs": []
    },
    {
      "cell_type": "markdown",
      "source": [
        "7. Tabuada"
      ],
      "metadata": {
        "id": "2lFwup_Sxl-F"
      }
    },
    {
      "cell_type": "code",
      "source": [
        "def tabuada(n):\n",
        "    for i in range(1, 11):\n",
        "        print(f\"{n} x {i} = {n * i}\")\n",
        "\n",
        "tabuada(7)  # Exemplo de uso"
      ],
      "metadata": {
        "id": "Ser-61VUxoeT"
      },
      "execution_count": null,
      "outputs": []
    },
    {
      "cell_type": "markdown",
      "source": [
        "8. Contagem de Vogais"
      ],
      "metadata": {
        "id": "gswnjWSAxrb8"
      }
    },
    {
      "cell_type": "code",
      "source": [
        "def conta_vogais(palavra):\n",
        "    vogais = \"aeiou\"\n",
        "    contador = 0\n",
        "    for letra in palavra.lower():\n",
        "        if letra in vogais:\n",
        "            contador += 1\n",
        "    return contador\n",
        "\n",
        "print(conta_vogais(\"Python\"))  # Exemplo de uso"
      ],
      "metadata": {
        "id": "hvTrX9R-xs6U"
      },
      "execution_count": null,
      "outputs": []
    },
    {
      "cell_type": "markdown",
      "source": [
        "9. Sequência de Fibonacci"
      ],
      "metadata": {
        "id": "f0_THc4mx0A8"
      }
    },
    {
      "cell_type": "code",
      "source": [
        "def fibonacci(n):\n",
        "    sequencia = [0, 1]\n",
        "    while len(sequencia) < n:\n",
        "        sequencia.append(sequencia[-1] + sequencia[-2])\n",
        "    return sequencia[:n]\n",
        "\n",
        "print(fibonacci(10))  # Exemplo de uso\n"
      ],
      "metadata": {
        "id": "HAIe6Lznx1Jl"
      },
      "execution_count": null,
      "outputs": []
    },
    {
      "cell_type": "markdown",
      "source": [
        "10. Converter Temperatura"
      ],
      "metadata": {
        "id": "tBZUkFD4x50k"
      }
    },
    {
      "cell_type": "code",
      "source": [
        "def celsius_para_fahrenheit(c):\n",
        "    return c * 9 / 5 + 32\n",
        "\n",
        "print(celsius_para_fahrenheit(25))  # Exemplo de uso"
      ],
      "metadata": {
        "id": "wcArAO1Px7g9"
      },
      "execution_count": null,
      "outputs": []
    },
    {
      "cell_type": "markdown",
      "source": [
        "# **Exercícios para Prática dos Alunos**"
      ],
      "metadata": {
        "id": "M7qtveYHx-qX"
      }
    },
    {
      "cell_type": "markdown",
      "source": [
        "## 1. Quadrado dos Números de 1 a 10\n",
        "\n",
        "Crie uma função que exibe o quadrado dos números de 1 a 10."
      ],
      "metadata": {
        "id": "EupGD7UqyA4e"
      }
    },
    {
      "cell_type": "code",
      "source": [
        "for i in range(1, 11):\n",
        "    print(f\"O quadrado de {i} é {i**2}\")\n",
        ""
      ],
      "metadata": {
        "id": "K777ynkzyGak",
        "outputId": "30692b76-1531-4e75-d3c9-fae5a9238aed",
        "colab": {
          "base_uri": "https://localhost:8080/"
        }
      },
      "execution_count": 1,
      "outputs": [
        {
          "output_type": "stream",
          "name": "stdout",
          "text": [
            "O quadrado de 1 é 1\n",
            "O quadrado de 2 é 4\n",
            "O quadrado de 3 é 9\n",
            "O quadrado de 4 é 16\n",
            "O quadrado de 5 é 25\n",
            "O quadrado de 6 é 36\n",
            "O quadrado de 7 é 49\n",
            "O quadrado de 8 é 64\n",
            "O quadrado de 9 é 81\n",
            "O quadrado de 10 é 100\n"
          ]
        }
      ]
    },
    {
      "cell_type": "markdown",
      "source": [
        "## 2. Produto dos Números de uma Lista\n",
        "\n",
        "Crie uma função que recebe uma lista e retorna o produto dos seus elementos."
      ],
      "metadata": {
        "id": "nHhBAvsuyN1v"
      }
    },
    {
      "cell_type": "code",
      "source": [
        "# prompt: Crie uma função que recebe uma lista e retorna o produto dos seus elementos\n",
        "\n",
        "def produto_lista(lista):\n",
        "  \"\"\"\n",
        "  Calcula o produto dos elementos de uma lista.\n",
        "\n",
        "  Args:\n",
        "    lista: Uma lista de números.\n",
        "\n",
        "  Returns:\n",
        "    O produto dos elementos da lista.\n",
        "  \"\"\"\n",
        "  produto = 1\n",
        "  for elemento in lista:\n",
        "    produto *= elemento\n",
        "  return produto\n",
        "\n",
        "# Exemplo de uso\n",
        "minha_lista = [1, 2, 3, 4, 5]\n",
        "resultado = produto_lista(minha_lista)\n",
        "print(f\"O produto dos elementos da lista é: {resultado}\")"
      ],
      "metadata": {
        "id": "DMuoPW9o0oy2",
        "outputId": "c25b3ebe-c860-400a-8660-3f3ca1736a16",
        "colab": {
          "base_uri": "https://localhost:8080/"
        }
      },
      "execution_count": 3,
      "outputs": [
        {
          "output_type": "stream",
          "name": "stdout",
          "text": [
            "O produto dos elementos da lista é: 120\n"
          ]
        }
      ]
    },
    {
      "cell_type": "markdown",
      "source": [
        "## 3. Cálculo da Média\n",
        "\n",
        "Escreva uma função que recebe uma lista de números e retorna a média aritmética."
      ],
      "metadata": {
        "id": "r_BNuBu40Owt"
      }
    },
    {
      "cell_type": "code",
      "source": [
        "# prompt: Escreva uma função que recebe uma lista de números e retorna a média aritmética.\n",
        "\n",
        "def calcular_media(lista_numeros):\n",
        "  \"\"\"\n",
        "  Calcula a média aritmética de uma lista de números.\n",
        "\n",
        "  Args:\n",
        "    lista_numeros: Uma lista de números.\n",
        "\n",
        "  Returns:\n",
        "    A média aritmética dos números na lista, ou None se a lista estiver vazia.\n",
        "  \"\"\"\n",
        "  if not lista_numeros:\n",
        "    return None\n",
        "  soma = sum(lista_numeros)\n",
        "  media = soma / len(lista_numeros)\n",
        "  return media\n",
        "\n",
        "# Exemplo de uso\n",
        "numeros = [10, 20, 30, 40, 50]\n",
        "media = calcular_media(numeros)\n",
        "if media is not None:\n",
        "  print(f\"A média dos números é: {media}\")\n",
        "else:\n",
        "  print(\"A lista está vazia.\")"
      ],
      "metadata": {
        "id": "xQ2RWHwL0peE",
        "outputId": "d095a9bb-1509-46c2-ea22-e788d72646b7",
        "colab": {
          "base_uri": "https://localhost:8080/"
        }
      },
      "execution_count": 4,
      "outputs": [
        {
          "output_type": "stream",
          "name": "stdout",
          "text": [
            "A média dos números é: 30.0\n"
          ]
        }
      ]
    },
    {
      "cell_type": "markdown",
      "source": [
        "## 4. Verificar Palíndromo\n",
        "\n",
        "Crie uma função que recebe uma palavra e verifica se é um palíndromo (lê-se igual de trás para frente)."
      ],
      "metadata": {
        "id": "x3sX8XRy0P-N"
      }
    },
    {
      "cell_type": "code",
      "source": [
        "# prompt: Crie uma função que recebe uma palavra e verifica se é um palíndromo (lê-se igual de trás para frente)\n",
        "\n",
        "def eh_palindromo(palavra):\n",
        "  \"\"\"\n",
        "  Verifica se uma palavra é um palíndromo.\n",
        "\n",
        "  Args:\n",
        "    palavra: A palavra a ser verificada.\n",
        "\n",
        "  Returns:\n",
        "    True se a palavra for um palíndromo, False caso contrário.\n",
        "  \"\"\"\n",
        "  palavra = palavra.lower()  # Ignora maiúsculas e minúsculas\n",
        "  return palavra == palavra[::-1]\n",
        "\n",
        "# Exemplo de uso\n",
        "palavra = \"arara\"\n",
        "if eh_palindromo(palavra):\n",
        "  print(f\"'{palavra}' é um palíndromo.\")\n",
        "else:\n",
        "  print(f\"'{palavra}' não é um palíndromo.\")"
      ],
      "metadata": {
        "id": "08UkaKVb0p5d",
        "outputId": "fc66617d-79d0-4b49-f9cf-296abd3c66fd",
        "colab": {
          "base_uri": "https://localhost:8080/"
        }
      },
      "execution_count": 5,
      "outputs": [
        {
          "output_type": "stream",
          "name": "stdout",
          "text": [
            "'arara' é um palíndromo.\n"
          ]
        }
      ]
    },
    {
      "cell_type": "markdown",
      "source": [
        "## 5. Números Ímpares entre 1 e 20\n",
        "\n",
        "Escreva uma função que retorna uma lista com todos os números ímpares entre 1 e 20."
      ],
      "metadata": {
        "id": "499uAnNc0Rns"
      }
    },
    {
      "cell_type": "code",
      "source": [
        "# prompt: Escreva uma função que retorna uma lista com todos os números ímpares entre 1 e 20\n",
        "\n",
        "def numeros_impares():\n",
        "  \"\"\"Retorna uma lista com todos os números ímpares entre 1 e 20.\"\"\"\n",
        "  impares = []\n",
        "  for i in range(1, 21):\n",
        "    if i % 2 != 0:\n",
        "      impares.append(i)\n",
        "  return impares\n",
        "\n",
        "# Exemplo de uso\n",
        "lista_impares = numeros_impares()\n",
        "print(f\"Lista de números ímpares entre 1 e 20: {lista_impares}\")"
      ],
      "metadata": {
        "id": "1jDDP8wE0qR9",
        "outputId": "5ff27cf4-1fe7-4635-bcbf-3a682db15aa9",
        "colab": {
          "base_uri": "https://localhost:8080/"
        }
      },
      "execution_count": 7,
      "outputs": [
        {
          "output_type": "stream",
          "name": "stdout",
          "text": [
            "Lista de números ímpares entre 1 e 20: [1, 3, 5, 7, 9, 11, 13, 15, 17, 19]\n"
          ]
        }
      ]
    },
    {
      "cell_type": "markdown",
      "source": [
        "## 6. Número Mínimo e Máximo em uma Lista\n",
        "\n",
        "Crie uma função que retorna o menor e o maior número de uma lista."
      ],
      "metadata": {
        "id": "r0WNyuYB0R6M"
      }
    },
    {
      "cell_type": "code",
      "source": [
        "# prompt: Crie uma função que retorna o menor e o maior número de uma lista.\n",
        "\n",
        "def min_max_lista(lista):\n",
        "  \"\"\"\n",
        "  Retorna o menor e o maior número de uma lista.\n",
        "\n",
        "  Args:\n",
        "    lista: Uma lista de números.\n",
        "\n",
        "  Returns:\n",
        "    Uma tupla contendo o menor e o maior número da lista.\n",
        "  \"\"\"\n",
        "  if not lista:\n",
        "    return None, None  # Retorna None se a lista estiver vazia\n",
        "\n",
        "  menor = lista[0]\n",
        "  maior = lista[0]\n",
        "\n",
        "  for numero in lista:\n",
        "    if numero < menor:\n",
        "      menor = numero\n",
        "    if numero > maior:\n",
        "      maior = numero\n",
        "\n",
        "  return menor, maior\n",
        "\n",
        "# Exemplo de uso\n",
        "minha_lista = [10, 5, 20, 8, 15]\n",
        "menor, maior = min_max_lista(minha_lista)\n",
        "\n",
        "if menor is not None and maior is not None:\n",
        "  print(f\"Menor número: {menor}\")\n",
        "  print(f\"Maior número: {maior}\")\n",
        "else:\n",
        "  print(\"A lista está vazia.\")"
      ],
      "metadata": {
        "id": "_p_CSbEE0qvk",
        "outputId": "26da6ff9-caa6-4206-e7bc-48fd11fa57d6",
        "colab": {
          "base_uri": "https://localhost:8080/"
        }
      },
      "execution_count": 8,
      "outputs": [
        {
          "output_type": "stream",
          "name": "stdout",
          "text": [
            "Menor número: 5\n",
            "Maior número: 20\n"
          ]
        }
      ]
    }
  ]
}